{
 "cells": [
  {
   "cell_type": "code",
   "execution_count": 1,
   "metadata": {},
   "outputs": [],
   "source": [
    "from splinter import Browser\n",
    "from bs4 import BeautifulSoup as bs\n",
    "import time\n",
    "import pandas as pd"
   ]
  },
  {
   "cell_type": "code",
   "execution_count": 51,
   "metadata": {},
   "outputs": [
    {
     "name": "stdout",
     "output_type": "stream",
     "text": [
      "url/assets/images/logo_nasa_trio_black@2x.png\n",
      "{'jpl title': <splinter.element_list.ElementList object at 0x00000227205D1BA8>, 'jpl_image': 'url/assets/images/logo_nasa_trio_black@2x.png'}\n",
      "{'jpl title': <splinter.element_list.ElementList object at 0x00000227205D1BA8>, 'jpl_image': 'url/assets/images/logo_nasa_trio_black@2x.png'}\n"
     ]
    }
   ],
   "source": [
    "executable_path = {\"executable_path\": \"chromedriver\"}\n",
    "browser=Browser(\"chrome\", **executable_path, headless=False)\n",
    "\n",
    "# Dictionary to upload scrapped info and export it later to Mongo\n",
    "mars_data={}\n",
    "url = \"https://www.jpl.nasa.gov/spaceimages/?search=&category=Mars\"\n",
    "\n",
    "browser.visit(url)\n",
    "time.sleep(0)\n",
    "# Scrape page into Soup\n",
    "html = browser.html   \n",
    "try:\n",
    "    soup = bs(html, \"html.parser\")    \n",
    "    mars_data['jpl title'] = browser.find_by_css(\"h1\")\n",
    "    browser.find_by_css(\"a.button.fancybox\").click()\n",
    "    time.sleep(1)\n",
    "    #img_smp = browser.find_link_by_text(\"Sample\").first\n",
    "    img_smp = soup.find('div.fancybox-inner fancybox-skin fancybox-dark-skin fancybox-dark-skin-open')\n",
    "    img_smp\n",
    "#     image=browser.find_by_xpath('//img[@src]')\n",
    "#     image\n",
    "    #quadrants[\"quad_url\"] = img_smp[\"href\"]\n",
    "   # <div class=\"fancybox-title fancybox-title-outside-wrap\" style=\"visibility: visible; opacity: 1; left: 0px;\">The Rose<div \n",
    "    browser.back()\n",
    "    #jpl = soup.find('article')['style'].replace('background-image: url(','').replace(');','')\n",
    "    #[1:-1]\n",
    "    home_url = \"url\"\n",
    "#     full_url = home_url + img_smp\n",
    "    mars_data['jpl_image'] = full_url\n",
    "    #mars_data['jpl title'] = browser.find_by_css(\"div.fancybox-title fancybox-title-outside-wrap\").text\n",
    "    print(full_url)\n",
    "    print(mars_data)\n",
    "    browser.quit()\n",
    "except NameError:\n",
    "    pass\n",
    "\n",
    "#path click\n",
    "#<a class=\"button fancybox\" data-description=\"The spinning vortex of Saturn's north polar storm resembles a deep red rose of giant proportions surrounded by green foliage in this false-color image from NASA's Cassini spacecraft.\" data-fancybox-group=\"images\" data-fancybox-href=\"/spaceimages/images/mediumsize/PIA14944_ip.jpg\" data-link=\"/spaceimages/details.php?id=PIA14944\" data-title=\"The Rose\" id=\"full_image\">\n",
    "#\t\t\t\t\tFULL IMAGE\n",
    "#\t\t\t\t  </a>\n",
    "#path imagen\n",
    "#<div class=\"fancybox-inner fancybox-skin fancybox-dark-skin fancybox-dark-skin-open\" style=\"border-width: 10px; margin-top: -10px; margin-left: -10px; overflow: visible; width: 540px; height: 540px;\"><img src=\"/spaceimages/images/mediumsize/PIA14944_ip.jpg\" class=\"fancybox-image\" style=\"display: inline;\"><a title=\"Previous\" class=\"fancybox-nav fancybox-prev\" href=\"javascript:;\"><span></span></a><a title=\"Next\" class=\"fancybox-nav fancybox-next\" href=\"javascript:;\"><span></span></a><a title=\"Display actual size\" class=\"fancybox-expand\" href=\"javascript:;\"></a></div>\n",
    "#<img src=\"/spaceimages/images/mediumsize/PIA14944_ip.jpg\" class=\"fancybox-image\" style=\"display: inline;\">\n",
    "\n",
    "print(mars_data)\n",
    "browser.quit()"
   ]
  },
  {
   "cell_type": "code",
   "execution_count": null,
   "metadata": {},
   "outputs": [],
   "source": [
    "executable_path = {\"executable_path\": \"chromedriver\"}\n",
    "browser=Browser(\"chrome\", **executable_path, headless=False)\n",
    "\n",
    "# Dictionary to upload scrapped info and export it later to Mongo\n",
    "mars_data={}\n",
    "url = \"https://www.jpl.nasa.gov/spaceimages/?search=&category=Mars\"\n",
    "\n",
    "browser.visit(url)\n",
    "time.sleep(0)\n",
    "# Scrape page into Soup\n",
    "html = browser.html   \n",
    "try:\n",
    "    soup = bs(html, \"html.parser\")\n",
    "    jpl = soup.find('article')['style'].replace('background-image: url(','').replace(');','')[1:-1]\n",
    "    home_url = \"https://www.jpl.nasa.gov\"\n",
    "    full_url = home_url + jpl\n",
    "    mars_data['jpl_image'] = full_url\n",
    "except NameError:\n",
    "    pass\n",
    "\n",
    "print(jpl)\n",
    "browser.quit()"
   ]
  },
  {
   "cell_type": "code",
   "execution_count": 28,
   "metadata": {},
   "outputs": [
    {
     "name": "stdout",
     "output_type": "stream",
     "text": [
      "0\n",
      "http://astropedia.astrogeology.usgs.gov/download/Mars/Viking/cerberus_enhanced.tif/full.jpg\n",
      "Cerberus Hemisphere Enhanced\n",
      "[{'quad_url': 'http://astropedia.astrogeology.usgs.gov/download/Mars/Viking/cerberus_enhanced.tif/full.jpg', 'title': 'Cerberus Hemisphere Enhanced'}]\n",
      "1\n",
      "http://astropedia.astrogeology.usgs.gov/download/Mars/Viking/schiaparelli_enhanced.tif/full.jpg\n",
      "Schiaparelli Hemisphere Enhanced\n",
      "[{'quad_url': 'http://astropedia.astrogeology.usgs.gov/download/Mars/Viking/cerberus_enhanced.tif/full.jpg', 'title': 'Cerberus Hemisphere Enhanced'}, {'quad_url': 'http://astropedia.astrogeology.usgs.gov/download/Mars/Viking/schiaparelli_enhanced.tif/full.jpg', 'title': 'Schiaparelli Hemisphere Enhanced'}]\n",
      "2\n",
      "http://astropedia.astrogeology.usgs.gov/download/Mars/Viking/syrtis_major_enhanced.tif/full.jpg\n",
      "Syrtis Major Hemisphere Enhanced\n",
      "[{'quad_url': 'http://astropedia.astrogeology.usgs.gov/download/Mars/Viking/cerberus_enhanced.tif/full.jpg', 'title': 'Cerberus Hemisphere Enhanced'}, {'quad_url': 'http://astropedia.astrogeology.usgs.gov/download/Mars/Viking/schiaparelli_enhanced.tif/full.jpg', 'title': 'Schiaparelli Hemisphere Enhanced'}, {'quad_url': 'http://astropedia.astrogeology.usgs.gov/download/Mars/Viking/syrtis_major_enhanced.tif/full.jpg', 'title': 'Syrtis Major Hemisphere Enhanced'}]\n",
      "3\n",
      "http://astropedia.astrogeology.usgs.gov/download/Mars/Viking/valles_marineris_enhanced.tif/full.jpg\n",
      "Valles Marineris Hemisphere Enhanced\n",
      "[{'quad_url': 'http://astropedia.astrogeology.usgs.gov/download/Mars/Viking/cerberus_enhanced.tif/full.jpg', 'title': 'Cerberus Hemisphere Enhanced'}, {'quad_url': 'http://astropedia.astrogeology.usgs.gov/download/Mars/Viking/schiaparelli_enhanced.tif/full.jpg', 'title': 'Schiaparelli Hemisphere Enhanced'}, {'quad_url': 'http://astropedia.astrogeology.usgs.gov/download/Mars/Viking/syrtis_major_enhanced.tif/full.jpg', 'title': 'Syrtis Major Hemisphere Enhanced'}, {'quad_url': 'http://astropedia.astrogeology.usgs.gov/download/Mars/Viking/valles_marineris_enhanced.tif/full.jpg', 'title': 'Valles Marineris Hemisphere Enhanced'}]\n",
      "{'Hemispheres': [{'quad_url': 'http://astropedia.astrogeology.usgs.gov/download/Mars/Viking/cerberus_enhanced.tif/full.jpg', 'title': 'Cerberus Hemisphere Enhanced'}, {'quad_url': 'http://astropedia.astrogeology.usgs.gov/download/Mars/Viking/schiaparelli_enhanced.tif/full.jpg', 'title': 'Schiaparelli Hemisphere Enhanced'}, {'quad_url': 'http://astropedia.astrogeology.usgs.gov/download/Mars/Viking/syrtis_major_enhanced.tif/full.jpg', 'title': 'Syrtis Major Hemisphere Enhanced'}, {'quad_url': 'http://astropedia.astrogeology.usgs.gov/download/Mars/Viking/valles_marineris_enhanced.tif/full.jpg', 'title': 'Valles Marineris Hemisphere Enhanced'}]}\n"
     ]
    }
   ],
   "source": [
    "executable_path = {\"executable_path\": \"chromedriver\"}\n",
    "browser=Browser(\"chrome\", **executable_path, headless=False)\n",
    "url = 'https://astrogeology.usgs.gov/search/results?q=hemisphere+enhanced&k1=target&v1=Mars'\n",
    "browser.visit(url)\n",
    "time.sleep(0)  \n",
    "mars_data={}\n",
    "\n",
    "pages_urls = []\n",
    "sub_pages=[]\n",
    "sub_pages = browser.find_by_css(\"a.product-item h3\")\n",
    "sub_pages\n",
    "for item in range(4):\n",
    "    quadrants = {}\n",
    "    print(item)\n",
    "    browser.find_by_css(\"a.product-item h3\")[item].click()\n",
    "    img_smp = browser.find_link_by_text(\"Sample\")\n",
    "    quadrants[\"quad_url\"] = img_smp[\"href\"]\n",
    "    print(quadrants[\"quad_url\"])\n",
    "    quadrants[\"title\"] = browser.find_by_css(\"h2.title\").text\n",
    "    print(quadrants[\"title\"])\n",
    "    pages_urls.append(quadrants)\n",
    "    #images_titles.append\n",
    "    print(pages_urls)\n",
    "    #img_smp = 0\n",
    "    #print(img_smp)\n",
    "    browser.back()\n",
    "mars_data[\"Hemispheres\"] = pages_urls\n",
    "browser.quit()\n",
    "print(mars_data)"
   ]
  },
  {
   "cell_type": "code",
   "execution_count": 26,
   "metadata": {},
   "outputs": [
    {
     "name": "stdout",
     "output_type": "stream",
     "text": [
      "{'hemispheres': [{'img_url': 'http://astropedia.astrogeology.usgs.gov/download/Mars/Viking/cerberus_enhanced.tif/full.jpg', 'title': 'Cerberus Hemisphere Enhanced'}, {'img_url': 'http://astropedia.astrogeology.usgs.gov/download/Mars/Viking/schiaparelli_enhanced.tif/full.jpg', 'title': 'Schiaparelli Hemisphere Enhanced'}, {'img_url': 'http://astropedia.astrogeology.usgs.gov/download/Mars/Viking/syrtis_major_enhanced.tif/full.jpg', 'title': 'Syrtis Major Hemisphere Enhanced'}, {'img_url': 'http://astropedia.astrogeology.usgs.gov/download/Mars/Viking/valles_marineris_enhanced.tif/full.jpg', 'title': 'Valles Marineris Hemisphere Enhanced'}]}\n"
     ]
    }
   ],
   "source": [
    "executable_path = {\"executable_path\": \"chromedriver\"}\n",
    "browser=Browser(\"chrome\", **executable_path, headless=False)\n",
    "mars_info={}\n",
    "        #Scrape Mars hemispheres url:\n",
    "hemispheres_url='https://astrogeology.usgs.gov/search/results?q=hemisphere+enhanced&k1=target&v1=Mars'\n",
    "browser.visit(hemispheres_url)\n",
    "\n",
    "        #Create empty list\n",
    "hemisphere_image_urls = []\n",
    "\n",
    "        # Get a List of All the Hemispheres\n",
    "links = browser.find_by_css(\"a.product-item h3\")\n",
    "for item in range(len(links)):\n",
    "            hemisphere = {}\n",
    "    \n",
    "            # Find Element on Each Loop to Avoid a Stale Element Exception\n",
    "            browser.find_by_css(\"a.product-item h3\")[item].click()\n",
    "            \n",
    "            # Find Sample Image Anchor Tag & Extract <href>\n",
    "            sample_element = browser.find_link_by_text(\"Sample\").first\n",
    "            hemisphere[\"img_url\"] = sample_element[\"href\"]\n",
    "            \n",
    "            # Get Hemisphere Title\n",
    "            hemisphere[\"title\"] = browser.find_by_css(\"h2.title\").text\n",
    "            \n",
    "            # Append Hemisphere Object to List\n",
    "            hemisphere_image_urls.append(hemisphere)\n",
    "            \n",
    "            # Navigate Backwards\n",
    "            browser.back()\n",
    "\n",
    "        # Dictionary entry from MARS HEMISPHERES\n",
    "mars_info['hemispheres'] = hemisphere_image_urls\n",
    "print(mars_info)"
   ]
  },
  {
   "cell_type": "code",
   "execution_count": null,
   "metadata": {},
   "outputs": [],
   "source": []
  }
 ],
 "metadata": {
  "kernelspec": {
   "display_name": "Python 3",
   "language": "python",
   "name": "python3"
  },
  "language_info": {
   "codemirror_mode": {
    "name": "ipython",
    "version": 3
   },
   "file_extension": ".py",
   "mimetype": "text/x-python",
   "name": "python",
   "nbconvert_exporter": "python",
   "pygments_lexer": "ipython3",
   "version": "3.7.3"
  }
 },
 "nbformat": 4,
 "nbformat_minor": 2
}
